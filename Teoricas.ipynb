{
 "cells": [
  {
   "cell_type": "markdown",
   "id": "89945eb6",
   "metadata": {},
   "source": [
    "## Integrantes \n",
    "- Andre Marroquin\n",
    "- Joaquin Puente\n",
    "- Sergio Orellana\n",
    "- Nelson Garcia\n"
   ]
  },
  {
   "cell_type": "markdown",
   "id": "0ba41556",
   "metadata": {},
   "source": [
    "1) **¿En qué casos son útiles estas arquitecturas?**\n",
    "\n",
    "a) **GoogLeNet (Inception)**\n",
    "\n",
    "Cuándo la usaría:\n",
    "\n",
    "- Cuando necesito capturar características a múltiples escalas (texturas finas y patrones grandes) en la misma capa.\n",
    "\n",
    "- Si busco buena precisión con presupuesto de cómputo moderado, por ejemplo en clasificación en la nube con recursos limitados.\n",
    "\n",
    "- Para reducir parámetros frente a CNNs clásicas profundas (gracias a 1×1 conv y “global average pooling”).\n",
    "\n",
    "Por qué: combina en paralelo conv 1×1, 3×3, 5×5 y pooling dentro de un módulo Inception, y concatena sus salidas; además usa clasificadores auxiliares durante el entrenamiento para estabilizar gradientes. "
   ]
  }
 ],
 "metadata": {
  "language_info": {
   "name": "python"
  }
 },
 "nbformat": 4,
 "nbformat_minor": 5
}
