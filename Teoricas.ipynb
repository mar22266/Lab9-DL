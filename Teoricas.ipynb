{
 "cells": [
  {
   "cell_type": "markdown",
   "id": "89945eb6",
   "metadata": {},
   "source": [
    "## Integrantes \n",
    "- Andre Marroquin\n",
    "- Joaquin Puente\n",
    "- Sergio Orellana\n",
    "- Nelson Garcia\n"
   ]
  },
  {
   "cell_type": "markdown",
   "id": "0ba41556",
   "metadata": {},
   "source": [
    "1) **¿En qué casos son útiles estas arquitecturas?**\n",
    "\n",
    "a) **GoogLeNet (Inception)**\n",
    "\n",
    "Cuándo la usaría:\n",
    "\n",
    "- Cuando necesito capturar características a múltiples escalas (texturas finas y patrones grandes) en la misma capa.\n",
    "- Si busco buena precisión con presupuesto de cómputo moderado, por ejemplo en clasificación en la nube con recursos limitados.\n",
    "- Para reducir parámetros frente a CNNs clásicas profundas (gracias a 1×1 conv y “global average pooling”).\n",
    "\n",
    "**Por qué:** combina en paralelo conv 1×1, 3×3, 5×5 y pooling dentro de un módulo Inception, y concatena sus salidas; además usa clasificadores auxiliares durante el entrenamiento para estabilizar gradientes. "
   ]
  },
  {
   "cell_type": "markdown",
   "id": "dc6982ca",
   "metadata": {},
   "source": [
    "b) **DenseNet (Densely Connected Convolutional Networks)**\n",
    "\n",
    "Cuándo la usaría:\n",
    "\n",
    "- Cuando quiero máximo reuso de características y mejor flujo de gradiente (evitar desvanecimiento), útil en datasets medianos/pequeños.\n",
    "- Si necesito modelos relativamente compactos (sorprendentemente eficientes en parámetros para su profundidad).\n",
    "- En tareas donde ayuda combinar rasgos de bajo y alto nivel (ej. clasificación, segmentación).\n",
    "\n",
    "**Por qué:** cada capa recibe como entrada el concat de todas las salidas previas en el bloque denso; las transition layers controlan el crecimiento con 1×1 conv y pooling."
   ]
  },
  {
   "cell_type": "markdown",
   "id": "8be28d7a",
   "metadata": {},
   "source": [
    "c) **MobileNet**\n",
    "\n",
    "Cuándo la usaría:\n",
    "\n",
    "- Para inferencia en dispositivos móviles/embebidos (apps on-device, IoT, robótica con tiempo real).\n",
    "- Cuando el requisito clave es baja latencia y bajo consumo con una caída mínima de precisión.\n",
    "- Para despliegues a gran escala donde el costo por consulta importa.\n",
    "\n",
    "**Por qué:** usa convoluciones separables en profundidad (depthwise + pointwise 1×1) y, en V2/V3, bottlenecks invertidos y ReLU6, logrando grandes ahorros en cómputo y parámetros."
   ]
  },
  {
   "cell_type": "markdown",
   "id": "28b92843",
   "metadata": {},
   "source": [
    "d) **EfficientNet**\n",
    "\n",
    "Cuándo la usaría:\n",
    "\n",
    "- Cuando quiero mejor precisión-eficiencia y además escalar el modelo (pequeño → grande) de forma sistemática.\n",
    "- En sistemas donde puedo elegir entre variantes B0–B7 según mi presupuesto de FLOPs/memoria.\n",
    "- Para competir con SOTA en clasificación manteniendo un buen costo.\n",
    "\n",
    "**Por qué:** introduce el compound scaling (escala coordinadamente profundidad, ancho y resolución) y usa bloques MBConv con Squeeze-and-Excitation (inspirados en MobileNetV2)."
   ]
  }
 ],
 "metadata": {
  "language_info": {
   "name": "python"
  }
 },
 "nbformat": 4,
 "nbformat_minor": 5
}
