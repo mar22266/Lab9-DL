{
 "cells": [
  {
   "cell_type": "markdown",
   "id": "c0489670",
   "metadata": {},
   "source": [
    "# andre marroquin 22266\n",
    "# sergio orellana 221122\n",
    "# nelson garcia\n",
    "# joaquin puente"
   ]
  },
  {
   "cell_type": "markdown",
   "id": "284213fa",
   "metadata": {},
   "source": [
    "# Task 1"
   ]
  }
 ],
 "metadata": {
  "language_info": {
   "name": "python"
  }
 },
 "nbformat": 4,
 "nbformat_minor": 5
}
